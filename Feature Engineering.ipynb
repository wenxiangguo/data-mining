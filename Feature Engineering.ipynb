{
 "cells": [
  {
   "cell_type": "markdown",
   "metadata": {},
   "source": [
    "特征工程：将数据转换为能更好的表示潜在问题的特征，从而提高机器学习性能<p>\n",
    "特征构造目的：增强数据表达，添加先验知识<p>\n",
    "1.统计量特征：计数，求和，比例，标准差<p>\n",
    "2.时间特征：绝对时间，相对时间，节假日，双休日<p>\n",
    "3.地理信息：分桶<p>\n",
    "4.非线性变换：去log/平方/根号<p>\n",
    "5.数据分桶：等频/等距分桶/卡方分桶<p>\n",
    "6.特征组合"
   ]
  },
  {
   "cell_type": "markdown",
   "metadata": {},
   "source": [
    "特征选择的目的：降低噪声，平滑预测能力和计算复杂度，增强模型预测性能<p>\n",
    "过滤式<p>\n",
    "包裹式<p>\n",
    "嵌入式<p>"
   ]
  },
  {
   "cell_type": "markdown",
   "metadata": {},
   "source": [
    "# 2.1 导入数据分析库"
   ]
  },
  {
   "cell_type": "code",
   "execution_count": 64,
   "metadata": {},
   "outputs": [],
   "source": [
    "import numpy as np\n",
    "import pandas as pd\n",
    "import matplotlib.pyplot as plt\n",
    "import seaborn as sns\n",
    "import time\n",
    "import warnings\n",
    "warnings.filterwarnings(\"ignore\")\n",
    "import missingno as msno"
   ]
  },
  {
   "cell_type": "markdown",
   "metadata": {},
   "source": [
    "# 2.2 读取数据"
   ]
  },
  {
   "cell_type": "code",
   "execution_count": 104,
   "metadata": {},
   "outputs": [
    {
     "data": {
      "text/plain": [
       "((150000, 31), (50000, 30))"
      ]
     },
     "execution_count": 104,
     "metadata": {},
     "output_type": "execute_result"
    }
   ],
   "source": [
    "train_data= pd.read_csv('used_car_train_20200313.csv',sep=' ')\n",
    "test_data= pd.read_csv('used_car_testA_20200313.csv',sep=' ')\n",
    "train_data.shape,test_data.shape"
   ]
  },
  {
   "cell_type": "markdown",
   "metadata": {},
   "source": [
    "## 2.3 离群点检测"
   ]
  },
  {
   "cell_type": "code",
   "execution_count": 105,
   "metadata": {},
   "outputs": [],
   "source": [
    "def box_plot_outliers(data_ser,box_scale):\n",
    "        iqr = box_scale * (data_ser.quantile(0.75) - data_ser.quantile(0.25))\n",
    "        val_low = data_ser.quantile(0.25) - iqr\n",
    "        val_up  = data_ser.quantile(0.75) + iqr\n",
    "        rule_low = (data_ser < val_low)\n",
    "        rule_up  = (data_ser > val_up)\n",
    "        return(rule_low,rule_up),(val_low,val_up)"
   ]
  },
  {
   "cell_type": "code",
   "execution_count": 106,
   "metadata": {},
   "outputs": [
    {
     "data": {
      "text/plain": [
       "Index(['SaleID', 'name', 'regDate', 'model', 'brand', 'bodyType', 'fuelType',\n",
       "       'gearbox', 'power', 'kilometer', 'notRepairedDamage', 'regionCode',\n",
       "       'seller', 'offerType', 'creatDate', 'price', 'v_0', 'v_1', 'v_2', 'v_3',\n",
       "       'v_4', 'v_5', 'v_6', 'v_7', 'v_8', 'v_9', 'v_10', 'v_11', 'v_12',\n",
       "       'v_13', 'v_14'],\n",
       "      dtype='object')"
      ]
     },
     "execution_count": 106,
     "metadata": {},
     "output_type": "execute_result"
    }
   ],
   "source": [
    "train_data.columns"
   ]
  },
  {
   "cell_type": "code",
   "execution_count": 107,
   "metadata": {},
   "outputs": [
    {
     "name": "stdout",
     "output_type": "stream",
     "text": [
      "Delete number is:963\n",
      "new column number is:149037\n",
      "Description of data less than lower bound is:\n",
      "count    0.0\n",
      "mean     NaN\n",
      "std      NaN\n",
      "min      NaN\n",
      "25%      NaN\n",
      "50%      NaN\n",
      "75%      NaN\n",
      "max      NaN\n",
      "Name: power, dtype: float64\n",
      "Description of data larger than the upper bound is:\n",
      "count      963.000000\n",
      "mean       846.836968\n",
      "std       1929.418081\n",
      "min        376.000000\n",
      "25%        400.000000\n",
      "50%        436.000000\n",
      "75%        514.000000\n",
      "max      19312.000000\n",
      "Name: power, dtype: float64\n"
     ]
    },
    {
     "data": {
      "text/plain": [
       "<matplotlib.axes._subplots.AxesSubplot at 0x1f28024d5f8>"
      ]
     },
     "execution_count": 107,
     "metadata": {},
     "output_type": "execute_result"
    },
    {
     "data": {
      "image/png": "[encoded data removed]",
      "text/plain": [
       "<Figure size 720x504 with 2 Axes>"
      ]
     },
     "metadata": {},
     "output_type": "display_data"
    }
   ],
   "source": [
    "data = train_data.copy()\n",
    "data_series = data['power']\n",
    "rule,value = box_plot_outliers(data_series,box_scale = 3)\n",
    "index = np.arange(data_series.shape[0])[rule[0] | rule[1]]\n",
    "print('Delete number is:{}'.format(len(index)))\n",
    "data = data.drop(index)\n",
    "data.reset_index(drop = True, inplace = True)\n",
    "print('new column number is:{}'.format(data.shape[0]))\n",
    "index_low = np.arange(data_series.shape[0])[rule[0]]\n",
    "outliers = data_series.iloc[index_low]\n",
    "print('Description of data less than lower bound is:')\n",
    "print(pd.Series(outliers).describe())\n",
    "index_up = np.arange(data_series.shape[0])[rule[1]]\n",
    "outliers = data_series.iloc[index_up]\n",
    "print(\"Description of data larger than the upper bound is:\")\n",
    "print(pd.Series(outliers).describe())\n",
    "    \n",
    "fig,ax = plt.subplots(1,2,figsize = (10,7))\n",
    "sns.boxplot(y = train_data['power'],data = train_data,palette = 'Set1',ax = ax[0])\n",
    "sns.boxplot(y = data['power'],data = data,palette = 'Set1',ax = ax[1])\n"
   ]
  },
  {
   "cell_type": "code",
   "execution_count": 108,
   "metadata": {},
   "outputs": [
    {
     "data": {
      "text/plain": [
       "(149037, 31)"
      ]
     },
     "execution_count": 108,
     "metadata": {},
     "output_type": "execute_result"
    }
   ],
   "source": [
    "data.shape"
   ]
  },
  {
   "cell_type": "code",
   "execution_count": 109,
   "metadata": {},
   "outputs": [
    {
     "data": {
      "text/plain": [
       "77          500\n",
       "171         387\n",
       "221         740\n",
       "534        7515\n",
       "632         396\n",
       "751         431\n",
       "882         424\n",
       "919        1398\n",
       "1080        420\n",
       "1283        431\n",
       "1331        385\n",
       "1337        564\n",
       "1437        450\n",
       "2002        400\n",
       "2088        480\n",
       "2187        555\n",
       "2526        400\n",
       "2671        555\n",
       "2917        560\n",
       "3161        457\n",
       "3417        400\n",
       "4077        601\n",
       "4271        500\n",
       "4297        404\n",
       "4398       1771\n",
       "4428        450\n",
       "4790       1598\n",
       "4930        396\n",
       "5179       1653\n",
       "5371        387\n",
       "          ...  \n",
       "146036      387\n",
       "146222      457\n",
       "146245     1151\n",
       "146277      600\n",
       "146365      400\n",
       "146678      416\n",
       "147519      400\n",
       "147691      400\n",
       "147891      387\n",
       "148030      776\n",
       "148049      450\n",
       "148197      525\n",
       "148246     2598\n",
       "148365    17700\n",
       "148439      504\n",
       "148456      436\n",
       "148554      426\n",
       "148665    19312\n",
       "148701      450\n",
       "148751      476\n",
       "148771      525\n",
       "148824      435\n",
       "148969      481\n",
       "149039      387\n",
       "149251      680\n",
       "149414      450\n",
       "149586      457\n",
       "149644      549\n",
       "149927      450\n",
       "149955      585\n",
       "Name: power, Length: 963, dtype: int64"
      ]
     },
     "execution_count": 109,
     "metadata": {},
     "output_type": "execute_result"
    }
   ],
   "source": [
    "outliers"
   ]
  },
  {
   "cell_type": "markdown",
   "metadata": {},
   "source": [
    "## 2.4 对训练集测试集进行特征构造"
   ]
  },
  {
   "cell_type": "code",
   "execution_count": 110,
   "metadata": {},
   "outputs": [],
   "source": [
    "train_data['train']=1\n",
    "test_data['test']=0\n",
    "data_all=pd.concat([train_data,test_data],ignore_index=True)"
   ]
  },
  {
   "cell_type": "markdown",
   "metadata": {},
   "source": [
    "### 2.4.1 构造车辆使用时间used_time"
   ]
  },
  {
   "cell_type": "code",
   "execution_count": 111,
   "metadata": {},
   "outputs": [
    {
     "data": {
      "text/html": [
       "<div>\n",
       "<style scoped>\n",
       "    .dataframe tbody tr th:only-of-type {\n",
       "        vertical-align: middle;\n",
       "    }\n",
       "\n",
       "    .dataframe tbody tr th {\n",
       "        vertical-align: top;\n",
       "    }\n",
       "\n",
       "    .dataframe thead th {\n",
       "        text-align: right;\n",
       "    }\n",
       "</style>\n",
       "<table border=\"1\" class=\"dataframe\">\n",
       "  <thead>\n",
       "    <tr style=\"text-align: right;\">\n",
       "      <th></th>\n",
       "      <th>SaleID</th>\n",
       "      <th>bodyType</th>\n",
       "      <th>brand</th>\n",
       "      <th>creatDate</th>\n",
       "      <th>fuelType</th>\n",
       "      <th>gearbox</th>\n",
       "      <th>kilometer</th>\n",
       "      <th>model</th>\n",
       "      <th>name</th>\n",
       "      <th>notRepairedDamage</th>\n",
       "      <th>...</th>\n",
       "      <th>v_14</th>\n",
       "      <th>v_2</th>\n",
       "      <th>v_3</th>\n",
       "      <th>v_4</th>\n",
       "      <th>v_5</th>\n",
       "      <th>v_6</th>\n",
       "      <th>v_7</th>\n",
       "      <th>v_8</th>\n",
       "      <th>v_9</th>\n",
       "      <th>used_time</th>\n",
       "    </tr>\n",
       "  </thead>\n",
       "  <tbody>\n",
       "    <tr>\n",
       "      <th>0</th>\n",
       "      <td>0</td>\n",
       "      <td>1.0</td>\n",
       "      <td>6</td>\n",
       "      <td>20160404</td>\n",
       "      <td>0.0</td>\n",
       "      <td>0.0</td>\n",
       "      <td>12.5</td>\n",
       "      <td>30.0</td>\n",
       "      <td>736</td>\n",
       "      <td>0.0</td>\n",
       "      <td>...</td>\n",
       "      <td>0.914762</td>\n",
       "      <td>0.050257</td>\n",
       "      <td>2.159744</td>\n",
       "      <td>1.143786</td>\n",
       "      <td>0.235676</td>\n",
       "      <td>0.101988</td>\n",
       "      <td>0.129549</td>\n",
       "      <td>0.022816</td>\n",
       "      <td>0.097462</td>\n",
       "      <td>4385.0</td>\n",
       "    </tr>\n",
       "    <tr>\n",
       "      <th>1</th>\n",
       "      <td>1</td>\n",
       "      <td>2.0</td>\n",
       "      <td>1</td>\n",
       "      <td>20160309</td>\n",
       "      <td>0.0</td>\n",
       "      <td>0.0</td>\n",
       "      <td>15.0</td>\n",
       "      <td>40.0</td>\n",
       "      <td>2262</td>\n",
       "      <td>-</td>\n",
       "      <td>...</td>\n",
       "      <td>0.245522</td>\n",
       "      <td>0.137925</td>\n",
       "      <td>1.380657</td>\n",
       "      <td>-1.422165</td>\n",
       "      <td>0.264777</td>\n",
       "      <td>0.121004</td>\n",
       "      <td>0.135731</td>\n",
       "      <td>0.026597</td>\n",
       "      <td>0.020582</td>\n",
       "      <td>4757.0</td>\n",
       "    </tr>\n",
       "    <tr>\n",
       "      <th>2</th>\n",
       "      <td>2</td>\n",
       "      <td>1.0</td>\n",
       "      <td>15</td>\n",
       "      <td>20160402</td>\n",
       "      <td>0.0</td>\n",
       "      <td>0.0</td>\n",
       "      <td>12.5</td>\n",
       "      <td>115.0</td>\n",
       "      <td>14874</td>\n",
       "      <td>0.0</td>\n",
       "      <td>...</td>\n",
       "      <td>-0.229963</td>\n",
       "      <td>1.319524</td>\n",
       "      <td>-0.998467</td>\n",
       "      <td>-0.996911</td>\n",
       "      <td>0.251410</td>\n",
       "      <td>0.114912</td>\n",
       "      <td>0.165147</td>\n",
       "      <td>0.062173</td>\n",
       "      <td>0.027075</td>\n",
       "      <td>4382.0</td>\n",
       "    </tr>\n",
       "    <tr>\n",
       "      <th>3</th>\n",
       "      <td>3</td>\n",
       "      <td>0.0</td>\n",
       "      <td>10</td>\n",
       "      <td>20160312</td>\n",
       "      <td>0.0</td>\n",
       "      <td>1.0</td>\n",
       "      <td>15.0</td>\n",
       "      <td>109.0</td>\n",
       "      <td>71865</td>\n",
       "      <td>0.0</td>\n",
       "      <td>...</td>\n",
       "      <td>-0.478699</td>\n",
       "      <td>-0.050616</td>\n",
       "      <td>0.883600</td>\n",
       "      <td>-2.228079</td>\n",
       "      <td>0.274293</td>\n",
       "      <td>0.110300</td>\n",
       "      <td>0.121964</td>\n",
       "      <td>0.033395</td>\n",
       "      <td>0.000000</td>\n",
       "      <td>7125.0</td>\n",
       "    </tr>\n",
       "    <tr>\n",
       "      <th>4</th>\n",
       "      <td>4</td>\n",
       "      <td>1.0</td>\n",
       "      <td>5</td>\n",
       "      <td>20160313</td>\n",
       "      <td>0.0</td>\n",
       "      <td>0.0</td>\n",
       "      <td>5.0</td>\n",
       "      <td>110.0</td>\n",
       "      <td>111080</td>\n",
       "      <td>0.0</td>\n",
       "      <td>...</td>\n",
       "      <td>1.923482</td>\n",
       "      <td>0.572169</td>\n",
       "      <td>-1.571239</td>\n",
       "      <td>2.246088</td>\n",
       "      <td>0.228036</td>\n",
       "      <td>0.073205</td>\n",
       "      <td>0.091880</td>\n",
       "      <td>0.078819</td>\n",
       "      <td>0.121534</td>\n",
       "      <td>1531.0</td>\n",
       "    </tr>\n",
       "  </tbody>\n",
       "</table>\n",
       "<p>5 rows × 34 columns</p>\n",
       "</div>"
      ],
      "text/plain": [
       "   SaleID  bodyType  brand  creatDate  fuelType  gearbox  kilometer  model  \\\n",
       "0       0       1.0      6   20160404       0.0      0.0       12.5   30.0   \n",
       "1       1       2.0      1   20160309       0.0      0.0       15.0   40.0   \n",
       "2       2       1.0     15   20160402       0.0      0.0       12.5  115.0   \n",
       "3       3       0.0     10   20160312       0.0      1.0       15.0  109.0   \n",
       "4       4       1.0      5   20160313       0.0      0.0        5.0  110.0   \n",
       "\n",
       "     name notRepairedDamage    ...          v_14       v_2       v_3  \\\n",
       "0     736               0.0    ...      0.914762  0.050257  2.159744   \n",
       "1    2262                 -    ...      0.245522  0.137925  1.380657   \n",
       "2   14874               0.0    ...     -0.229963  1.319524 -0.998467   \n",
       "3   71865               0.0    ...     -0.478699 -0.050616  0.883600   \n",
       "4  111080               0.0    ...      1.923482  0.572169 -1.571239   \n",
       "\n",
       "        v_4       v_5       v_6       v_7       v_8       v_9  used_time  \n",
       "0  1.143786  0.235676  0.101988  0.129549  0.022816  0.097462     4385.0  \n",
       "1 -1.422165  0.264777  0.121004  0.135731  0.026597  0.020582     4757.0  \n",
       "2 -0.996911  0.251410  0.114912  0.165147  0.062173  0.027075     4382.0  \n",
       "3 -2.228079  0.274293  0.110300  0.121964  0.033395  0.000000     7125.0  \n",
       "4  2.246088  0.228036  0.073205  0.091880  0.078819  0.121534     1531.0  \n",
       "\n",
       "[5 rows x 34 columns]"
      ]
     },
     "execution_count": 111,
     "metadata": {},
     "output_type": "execute_result"
    }
   ],
   "source": [
    "data_all['used_time'] = (pd.to_datetime(data_all['creatDate'],format = '%Y%m%d',errors = 'coerce') -pd.to_datetime(data_all['regDate'],format = '%Y%m%d',errors = 'coerce')).dt.days\n",
    "data_all.head()"
   ]
  },
  {
   "cell_type": "code",
   "execution_count": 112,
   "metadata": {},
   "outputs": [
    {
     "data": {
      "text/plain": [
       "15101"
      ]
     },
     "execution_count": 112,
     "metadata": {},
     "output_type": "execute_result"
    }
   ],
   "source": [
    "data_all['used_time'].isnull().sum()"
   ]
  },
  {
   "cell_type": "markdown",
   "metadata": {},
   "source": [
    "### 2.4.2 构造城市特征city"
   ]
  },
  {
   "cell_type": "code",
   "execution_count": 113,
   "metadata": {},
   "outputs": [],
   "source": [
    "data_all['city'] = data_all['regionCode'].apply(lambda x : str(x)[:-3])\n",
    "data_all = data_all.drop(['creatDate', 'regDate', 'regionCode'], axis=1)"
   ]
  },
  {
   "cell_type": "code",
   "execution_count": 114,
   "metadata": {},
   "outputs": [
    {
     "data": {
      "text/plain": [
       "Index(['SaleID', 'bodyType', 'brand', 'fuelType', 'gearbox', 'kilometer',\n",
       "       'model', 'name', 'notRepairedDamage', 'offerType', 'power', 'price',\n",
       "       'seller', 'test', 'train', 'v_0', 'v_1', 'v_10', 'v_11', 'v_12', 'v_13',\n",
       "       'v_14', 'v_2', 'v_3', 'v_4', 'v_5', 'v_6', 'v_7', 'v_8', 'v_9',\n",
       "       'used_time', 'city'],\n",
       "      dtype='object')"
      ]
     },
     "execution_count": 114,
     "metadata": {},
     "output_type": "execute_result"
    }
   ],
   "source": [
    "data_all.columns"
   ]
  },
  {
   "cell_type": "markdown",
   "metadata": {},
   "source": [
    "### 2.4.3 对偏移特征power进行log变换，最大最小值归一化"
   ]
  },
  {
   "cell_type": "code",
   "execution_count": 115,
   "metadata": {},
   "outputs": [
    {
     "data": {
      "text/plain": [
       "(array([1.99946e+05, 1.70000e+01, 4.00000e+00, 1.10000e+01, 2.00000e+00,\n",
       "        5.00000e+00, 4.00000e+00, 3.00000e+00, 6.00000e+00, 2.00000e+00]),\n",
       " array([    0.,  2000.,  4000.,  6000.,  8000., 10000., 12000., 14000.,\n",
       "        16000., 18000., 20000.]),\n",
       " <a list of 10 Patch objects>)"
      ]
     },
     "execution_count": 115,
     "metadata": {},
     "output_type": "execute_result"
    },
    {
     "data": {
      "image/png": "[encoded data removed]",
      "text/plain": [
       "<Figure size 432x288 with 1 Axes>"
      ]
     },
     "metadata": {},
     "output_type": "display_data"
    }
   ],
   "source": [
    "plt.hist(data_all['power'])"
   ]
  },
  {
   "cell_type": "code",
   "execution_count": 116,
   "metadata": {},
   "outputs": [
    {
     "data": {
      "text/plain": [
       "<matplotlib.axes._subplots.AxesSubplot at 0x1f2802c0d68>"
      ]
     },
     "execution_count": 116,
     "metadata": {},
     "output_type": "execute_result"
    },
    {
     "data": {
      "image/png": "[encoded data removed]",
      "text/plain": [
       "<Figure size 432x288 with 1 Axes>"
      ]
     },
     "metadata": {},
     "output_type": "display_data"
    }
   ],
   "source": [
    "from sklearn import preprocessing\n",
    "min_max_scaler = preprocessing.MinMaxScaler()\n",
    "data_all['power'] = np.log(data_all['power'] + 1) \n",
    "data['power'] = ((data_all['power'] - np.min(data_all['power'])) / (np.max(data_all['power']) - np.min(data_all['power'])))\n",
    "data['power'].plot.hist()"
   ]
  },
  {
   "cell_type": "code",
   "execution_count": 117,
   "metadata": {},
   "outputs": [
    {
     "data": {
      "text/plain": [
       "<matplotlib.axes._subplots.AxesSubplot at 0x1f28034a8d0>"
      ]
     },
     "execution_count": 117,
     "metadata": {},
     "output_type": "execute_result"
    },
    {
     "data": {
      "image/png": "[encoded data removed]",
      "text/plain": [
       "<Figure size 432x288 with 1 Axes>"
      ]
     },
     "metadata": {},
     "output_type": "display_data"
    }
   ],
   "source": [
    "data_all['kilometer'] = np.log(data_all['kilometer'] + 1) \n",
    "data_all['kilometer'] = ((data_all['kilometer'] - np.min(data_all['kilometer'])) / (np.max(data_all['kilometer']) - np.min(data_all['kilometer'])))\n",
    "data_all['kilometer'].plot.hist()"
   ]
  },
  {
   "cell_type": "code",
   "execution_count": null,
   "metadata": {},
   "outputs": [],
   "source": []
  },
  {
   "cell_type": "code",
   "execution_count": 119,
   "metadata": {},
   "outputs": [
    {
     "data": {
      "text/plain": [
       "(200000, 337)"
      ]
     },
     "execution_count": 119,
     "metadata": {},
     "output_type": "execute_result"
    }
   ],
   "source": [
    "data_all = pd.get_dummies(data_all, columns=['model', 'brand', 'bodyType', 'fuelType','gearbox', 'notRepairedDamage','notRepairedDamage'])\n",
    "data_all.shape"
   ]
  },
  {
   "cell_type": "code",
   "execution_count": 120,
   "metadata": {},
   "outputs": [
    {
     "data": {
      "text/plain": [
       "Index(['SaleID', 'kilometer', 'name', 'offerType', 'power', 'price', 'seller',\n",
       "       'test', 'train', 'v_0',\n",
       "       ...\n",
       "       'fuelType_5.0', 'fuelType_6.0', 'gearbox_0.0', 'gearbox_1.0',\n",
       "       'notRepairedDamage_-', 'notRepairedDamage_0.0', 'notRepairedDamage_1.0',\n",
       "       'notRepairedDamage_-', 'notRepairedDamage_0.0',\n",
       "       'notRepairedDamage_1.0'],\n",
       "      dtype='object', length=337)"
      ]
     },
     "execution_count": 120,
     "metadata": {},
     "output_type": "execute_result"
    }
   ],
   "source": [
    "data_all.columns"
   ]
  },
  {
   "cell_type": "code",
   "execution_count": 124,
   "metadata": {},
   "outputs": [
    {
     "name": "stdout",
     "output_type": "stream",
     "text": [
      "price        1.000000\n",
      "v_12         0.692823\n",
      "v_8          0.685798\n",
      "v_0          0.628397\n",
      "power        0.284326\n",
      "v_5          0.164317\n",
      "v_2          0.085322\n",
      "v_6          0.068970\n",
      "v_1          0.060914\n",
      "v_14         0.035911\n",
      "v_13        -0.013993\n",
      "v_7         -0.053024\n",
      "v_4         -0.147085\n",
      "v_9         -0.206205\n",
      "v_10        -0.246175\n",
      "v_11        -0.275320\n",
      "kilometer   -0.399744\n",
      "v_3         -0.730946\n",
      "Name: price, dtype: float64 \n",
      "\n"
     ]
    }
   ],
   "source": [
    "cor_features= ['power', 'kilometer', 'v_0', 'v_1', 'v_2', 'v_3', 'v_4', 'v_5', 'v_6', 'v_7', 'v_8', 'v_9', 'v_10', 'v_11', 'v_12', 'v_13','v_14','price' ]\n",
    "correlation = data_all[cor_features].corr()\n",
    "print(correlation['price'].sort_values(ascending = False),'\\n')"
   ]
  },
  {
   "cell_type": "code",
   "execution_count": 126,
   "metadata": {},
   "outputs": [
    {
     "data": {
      "text/plain": [
       "<matplotlib.axes._subplots.AxesSubplot at 0x1f282e8a588>"
      ]
     },
     "execution_count": 126,
     "metadata": {},
     "output_type": "execute_result"
    },
    {
     "data": {
      "image/png": "[encoded data removed]",
      "text/plain": [
       "<Figure size 720x504 with 2 Axes>"
      ]
     },
     "metadata": {},
     "output_type": "display_data"
    }
   ],
   "source": [
    "f,ax = plt.subplots(figsize = (10, 7))\n",
    "plt.title('Correlation of Numeric Features with Price',y=1,size=16)\n",
    "sns.heatmap(correlation,square = True,  vmax=0.8)"
   ]
  },
  {
   "cell_type": "code",
   "execution_count": null,
   "metadata": {},
   "outputs": [],
   "source": []
  }
 ],
 "metadata": {
  "kernelspec": {
   "display_name": "Python 3",
   "language": "python",
   "name": "python3"
  },
  "language_info": {
   "codemirror_mode": {
    "name": "ipython",
    "version": 3
   },
   "file_extension": ".py",
   "mimetype": "text/x-python",
   "name": "python",
   "nbconvert_exporter": "python",
   "pygments_lexer": "ipython3",
   "version": "3.6.5"
  }
 },
 "nbformat": 4,
 "nbformat_minor": 2
}
